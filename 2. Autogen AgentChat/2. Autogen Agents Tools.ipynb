{
 "cells": [
  {
   "cell_type": "markdown",
   "id": "a5854331",
   "metadata": {},
   "source": [
    "# Tools"
   ]
  },
  {
   "cell_type": "code",
   "execution_count": null,
   "id": "6d389606",
   "metadata": {},
   "outputs": [],
   "source": [
    "There are 3 types of Tools :\n",
    "\n",
    "1. Custom Functions\n",
    "2. Built In\n",
    "3. 3rd Party\n"
   ]
  },
  {
   "cell_type": "code",
   "execution_count": 4,
   "id": "77165d49",
   "metadata": {},
   "outputs": [],
   "source": [
    "import asyncio\n",
    "from autogen_agentchat.agents import AssistantAgent\n",
    "from autogen_ext.models.openai import OpenAIChatCompletionClient\n",
    "from autogen_core.tools import FunctionTool\n",
    "import os\n",
    "from dotenv import load_dotenv\n",
    "\n",
    "# Load environment variables\n",
    "load_dotenv()\n",
    "api_key = os.getenv(\"OPENAI_API_KEY\")\n",
    "if not api_key:\n",
    "    raise ValueError(\"Please set the OPENAI_API_KEY environment variable.\")\n",
    "\n",
    "\n",
    "model_client=OpenAIChatCompletionClient(model='gpt-4o',api_key=api_key)\n",
    "\n",
    "def reverse_string(text: str) -> str:\n",
    "    '''\n",
    "    Reverse the given text\n",
    "\n",
    "    input:str\n",
    "\n",
    "    output:str\n",
    "\n",
    "    The reverse string is returned.\n",
    "    '''\n",
    "    return text[::-1]\n",
    "\n",
    "reverse_tool = FunctionTool(reverse_string,description='A tool to reverse a string')\n",
    "\n",
    "\n",
    "\n",
    "agent = AssistantAgent(\n",
    "    name=\"ReverseStringAgent\",\n",
    "    model_client= model_client,\n",
    "    system_message='You are a helpful assistant that can reverse string using reverse_string tool. Give the result with summary',\n",
    "    tools=[reverse_tool]\n",
    ")\n",
    "\n",
    "\n",
    "result = await agent.run(task = 'Reverse the string \"Hello, World!\"')\n",
    "\n"
   ]
  },
  {
   "cell_type": "code",
   "execution_count": 10,
   "id": "72457c57",
   "metadata": {},
   "outputs": [
    {
     "data": {
      "text/plain": [
       "[TextMessage(source='user', models_usage=None, metadata={}, created_at=datetime.datetime(2025, 7, 13, 16, 7, 56, 572294, tzinfo=datetime.timezone.utc), content='Reverse the string \"Hello, World!\"', type='TextMessage'),\n",
       " ToolCallRequestEvent(source='ReverseStringAgent', models_usage=RequestUsage(prompt_tokens=79, completion_tokens=17), metadata={}, created_at=datetime.datetime(2025, 7, 13, 16, 7, 57, 628703, tzinfo=datetime.timezone.utc), content=[FunctionCall(id='call_DvCPovy6IVTcG1eLqEwWUASi', arguments='{\"text\":\"Hello, World!\"}', name='reverse_string')], type='ToolCallRequestEvent'),\n",
       " ToolCallExecutionEvent(source='ReverseStringAgent', models_usage=None, metadata={}, created_at=datetime.datetime(2025, 7, 13, 16, 7, 57, 630246, tzinfo=datetime.timezone.utc), content=[FunctionExecutionResult(content='!dlroW ,olleH', name='reverse_string', call_id='call_DvCPovy6IVTcG1eLqEwWUASi', is_error=False)], type='ToolCallExecutionEvent'),\n",
       " ToolCallSummaryMessage(source='ReverseStringAgent', models_usage=None, metadata={}, created_at=datetime.datetime(2025, 7, 13, 16, 7, 57, 630246, tzinfo=datetime.timezone.utc), content='!dlroW ,olleH', type='ToolCallSummaryMessage', tool_calls=[FunctionCall(id='call_DvCPovy6IVTcG1eLqEwWUASi', arguments='{\"text\":\"Hello, World!\"}', name='reverse_string')], results=[FunctionExecutionResult(content='!dlroW ,olleH', name='reverse_string', call_id='call_DvCPovy6IVTcG1eLqEwWUASi', is_error=False)])]"
      ]
     },
     "execution_count": 10,
     "metadata": {},
     "output_type": "execute_result"
    }
   ],
   "source": [
    "# Get the summary content from the last message\n",
    "result.messages"
   ]
  }
 ],
 "metadata": {
  "kernelspec": {
   "display_name": "autogen-env",
   "language": "python",
   "name": "python3"
  },
  "language_info": {
   "codemirror_mode": {
    "name": "ipython",
    "version": 3
   },
   "file_extension": ".py",
   "mimetype": "text/x-python",
   "name": "python",
   "nbconvert_exporter": "python",
   "pygments_lexer": "ipython3",
   "version": "3.12.0"
  }
 },
 "nbformat": 4,
 "nbformat_minor": 5
}
